{
 "cells": [
  {
   "cell_type": "code",
   "execution_count": 76,
   "metadata": {},
   "outputs": [],
   "source": [
    "# improt all necessary modules and library\n",
    "import pandas as pd\n",
    "import numpy as np\n",
    "from tensorflow.keras.preprocessing.text import Tokenizer\n",
    "from tensorflow.keras.preprocessing.sequence import pad_sequences\n",
    "from tensorflow.keras.utils import to_categorical\n",
    "from sklearn.preprocessing import LabelEncoder\n",
    "from tensorflow.keras.models import Model\n",
    "from tensorflow.keras.layers import Input,Embedding,LSTM,Dense"
   ]
  },
  {
   "cell_type": "code",
   "execution_count": 97,
   "metadata": {},
   "outputs": [
    {
     "data": {
      "text/html": [
       "<div>\n",
       "<style scoped>\n",
       "    .dataframe tbody tr th:only-of-type {\n",
       "        vertical-align: middle;\n",
       "    }\n",
       "\n",
       "    .dataframe tbody tr th {\n",
       "        vertical-align: top;\n",
       "    }\n",
       "\n",
       "    .dataframe thead th {\n",
       "        text-align: right;\n",
       "    }\n",
       "</style>\n",
       "<table border=\"1\" class=\"dataframe\">\n",
       "  <thead>\n",
       "    <tr style=\"text-align: right;\">\n",
       "      <th></th>\n",
       "      <th>Patient_Problem</th>\n",
       "      <th>Disease</th>\n",
       "      <th>Prescription</th>\n",
       "    </tr>\n",
       "  </thead>\n",
       "  <tbody>\n",
       "    <tr>\n",
       "      <th>0</th>\n",
       "      <td>Constant fatigue and muscle weakness, struggli...</td>\n",
       "      <td>Chronic Fatigue Syndrome</td>\n",
       "      <td>Cognitive behavioral therapy, graded exercise ...</td>\n",
       "    </tr>\n",
       "    <tr>\n",
       "      <th>1</th>\n",
       "      <td>Frequent severe migraines, sensitivity to ligh...</td>\n",
       "      <td>Migraine with Aura</td>\n",
       "      <td>Prescription triptans, avoid triggers like bri...</td>\n",
       "    </tr>\n",
       "    <tr>\n",
       "      <th>2</th>\n",
       "      <td>Sudden weight gain and feeling cold, especiall...</td>\n",
       "      <td>Hypothyroidism</td>\n",
       "      <td>Levothyroxine to regulate thyroid hormone levels.</td>\n",
       "    </tr>\n",
       "    <tr>\n",
       "      <th>3</th>\n",
       "      <td>High fever, sore throat, and swollen lymph nod...</td>\n",
       "      <td>Mononucleosis</td>\n",
       "      <td>Rest and hydration, ibuprofen for pain.</td>\n",
       "    </tr>\n",
       "    <tr>\n",
       "      <th>4</th>\n",
       "      <td>Excessive thirst and frequent urination, dry m...</td>\n",
       "      <td>Diabetes Mellitus</td>\n",
       "      <td>Insulin therapy and lifestyle changes.</td>\n",
       "    </tr>\n",
       "  </tbody>\n",
       "</table>\n",
       "</div>"
      ],
      "text/plain": [
       "                                     Patient_Problem  \\\n",
       "0  Constant fatigue and muscle weakness, struggli...   \n",
       "1  Frequent severe migraines, sensitivity to ligh...   \n",
       "2  Sudden weight gain and feeling cold, especiall...   \n",
       "3  High fever, sore throat, and swollen lymph nod...   \n",
       "4  Excessive thirst and frequent urination, dry m...   \n",
       "\n",
       "                    Disease                                       Prescription  \n",
       "0  Chronic Fatigue Syndrome  Cognitive behavioral therapy, graded exercise ...  \n",
       "1        Migraine with Aura  Prescription triptans, avoid triggers like bri...  \n",
       "2            Hypothyroidism  Levothyroxine to regulate thyroid hormone levels.  \n",
       "3             Mononucleosis            Rest and hydration, ibuprofen for pain.  \n",
       "4         Diabetes Mellitus             Insulin therapy and lifestyle changes.  "
      ]
     },
     "execution_count": 97,
     "metadata": {},
     "output_type": "execute_result"
    }
   ],
   "source": [
    "data =  pd.read_csv('medical_data.csv')\n",
    "data.head()"
   ]
  },
  {
   "cell_type": "markdown",
   "metadata": {},
   "source": [
    "Data preprocessing and preparation\n"
   ]
  },
  {
   "cell_type": "code",
   "execution_count": 78,
   "metadata": {},
   "outputs": [],
   "source": [
    "tokenizer = Tokenizer(num_words=5000, oov_token=\"<OOV>\")\n",
    "tokenizer.fit_on_texts(data['Patient_Problem']);\n",
    "\n",
    "sequences = tokenizer.texts_to_sequences(data['Patient_Problem'])"
   ]
  },
  {
   "cell_type": "code",
   "execution_count": 79,
   "metadata": {},
   "outputs": [],
   "source": [
    "max_length = max(len(x) for x in sequences)\n",
    "\n",
    "padded_sequences = pad_sequences(sequences,maxlen=max_length,padding='post');\n"
   ]
  },
  {
   "cell_type": "markdown",
   "metadata": {},
   "source": [
    "label encoding and converting them into categorical"
   ]
  },
  {
   "cell_type": "code",
   "execution_count": 80,
   "metadata": {},
   "outputs": [],
   "source": [
    "# encoding the labels\n",
    "label_encoder_disease = LabelEncoder()\n",
    "label_encoder_prescription = LabelEncoder()\n",
    "\n",
    "disease_label = label_encoder_disease.fit_transform(data['Disease'])\n",
    "prescription_label = label_encoder_prescription.fit_transform(data['Prescription'])\n",
    "\n",
    "# converting label into categorical\n",
    "disease_lebel_categorical = to_categorical(disease_label) \n",
    "prescription_label_categorical = to_categorical(prescription_label)\n"
   ]
  },
  {
   "cell_type": "code",
   "execution_count": 81,
   "metadata": {},
   "outputs": [
    {
     "data": {
      "text/plain": [
       "(407, 566)"
      ]
     },
     "execution_count": 81,
     "metadata": {},
     "output_type": "execute_result"
    }
   ],
   "source": [
    "Y = np.hstack((disease_lebel_categorical, prescription_label_categorical))\n",
    "Y.shape"
   ]
  },
  {
   "cell_type": "markdown",
   "metadata": {},
   "source": [
    "Model Building"
   ]
  },
  {
   "cell_type": "code",
   "execution_count": 82,
   "metadata": {},
   "outputs": [],
   "source": [
    "input_layer = Input(shape=(max_length,))\n",
    "embedding = Embedding(input_dim=5000,output_dim=64)(input_layer)\n",
    "lstm_layer = LSTM(64)(embedding)\n",
    "\n",
    "disease_output = Dense(len(label_encoder_disease.classes_),activation='softmax',name='disease_output')(lstm_layer)\n",
    "\n",
    "prescription_output = Dense(len(label_encoder_prescription.classes_),activation='softmax',name='prescription_output')(lstm_layer)"
   ]
  },
  {
   "cell_type": "markdown",
   "metadata": {},
   "source": [
    "Compiling the Model"
   ]
  },
  {
   "cell_type": "code",
   "execution_count": 83,
   "metadata": {},
   "outputs": [
    {
     "data": {
      "text/html": [
       "<pre style=\"white-space:pre;overflow-x:auto;line-height:normal;font-family:Menlo,'DejaVu Sans Mono',consolas,'Courier New',monospace\"><span style=\"font-weight: bold\">Model: \"functional_11\"</span>\n",
       "</pre>\n"
      ],
      "text/plain": [
       "\u001b[1mModel: \"functional_11\"\u001b[0m\n"
      ]
     },
     "metadata": {},
     "output_type": "display_data"
    },
    {
     "data": {
      "text/html": [
       "<pre style=\"white-space:pre;overflow-x:auto;line-height:normal;font-family:Menlo,'DejaVu Sans Mono',consolas,'Courier New',monospace\">┏━━━━━━━━━━━━━━━━━━━━━┳━━━━━━━━━━━━━━━━━━━┳━━━━━━━━━━━━┳━━━━━━━━━━━━━━━━━━━┓\n",
       "┃<span style=\"font-weight: bold\"> Layer (type)        </span>┃<span style=\"font-weight: bold\"> Output Shape      </span>┃<span style=\"font-weight: bold\">    Param # </span>┃<span style=\"font-weight: bold\"> Connected to      </span>┃\n",
       "┡━━━━━━━━━━━━━━━━━━━━━╇━━━━━━━━━━━━━━━━━━━╇━━━━━━━━━━━━╇━━━━━━━━━━━━━━━━━━━┩\n",
       "│ input_layer_8       │ (<span style=\"color: #00d7ff; text-decoration-color: #00d7ff\">None</span>, <span style=\"color: #00af00; text-decoration-color: #00af00\">17</span>)        │          <span style=\"color: #00af00; text-decoration-color: #00af00\">0</span> │ -                 │\n",
       "│ (<span style=\"color: #0087ff; text-decoration-color: #0087ff\">InputLayer</span>)        │                   │            │                   │\n",
       "├─────────────────────┼───────────────────┼────────────┼───────────────────┤\n",
       "│ embedding_7         │ (<span style=\"color: #00d7ff; text-decoration-color: #00d7ff\">None</span>, <span style=\"color: #00af00; text-decoration-color: #00af00\">17</span>, <span style=\"color: #00af00; text-decoration-color: #00af00\">64</span>)    │    <span style=\"color: #00af00; text-decoration-color: #00af00\">320,000</span> │ input_layer_8[<span style=\"color: #00af00; text-decoration-color: #00af00\">0</span>]… │\n",
       "│ (<span style=\"color: #0087ff; text-decoration-color: #0087ff\">Embedding</span>)         │                   │            │                   │\n",
       "├─────────────────────┼───────────────────┼────────────┼───────────────────┤\n",
       "│ lstm_13 (<span style=\"color: #0087ff; text-decoration-color: #0087ff\">LSTM</span>)      │ (<span style=\"color: #00d7ff; text-decoration-color: #00d7ff\">None</span>, <span style=\"color: #00af00; text-decoration-color: #00af00\">64</span>)        │     <span style=\"color: #00af00; text-decoration-color: #00af00\">33,024</span> │ embedding_7[<span style=\"color: #00af00; text-decoration-color: #00af00\">0</span>][<span style=\"color: #00af00; text-decoration-color: #00af00\">0</span>] │\n",
       "├─────────────────────┼───────────────────┼────────────┼───────────────────┤\n",
       "│ disease_output      │ (<span style=\"color: #00d7ff; text-decoration-color: #00d7ff\">None</span>, <span style=\"color: #00af00; text-decoration-color: #00af00\">178</span>)       │     <span style=\"color: #00af00; text-decoration-color: #00af00\">11,570</span> │ lstm_13[<span style=\"color: #00af00; text-decoration-color: #00af00\">0</span>][<span style=\"color: #00af00; text-decoration-color: #00af00\">0</span>]     │\n",
       "│ (<span style=\"color: #0087ff; text-decoration-color: #0087ff\">Dense</span>)             │                   │            │                   │\n",
       "├─────────────────────┼───────────────────┼────────────┼───────────────────┤\n",
       "│ prescription_output │ (<span style=\"color: #00d7ff; text-decoration-color: #00d7ff\">None</span>, <span style=\"color: #00af00; text-decoration-color: #00af00\">388</span>)       │     <span style=\"color: #00af00; text-decoration-color: #00af00\">25,220</span> │ lstm_13[<span style=\"color: #00af00; text-decoration-color: #00af00\">0</span>][<span style=\"color: #00af00; text-decoration-color: #00af00\">0</span>]     │\n",
       "│ (<span style=\"color: #0087ff; text-decoration-color: #0087ff\">Dense</span>)             │                   │            │                   │\n",
       "└─────────────────────┴───────────────────┴────────────┴───────────────────┘\n",
       "</pre>\n"
      ],
      "text/plain": [
       "┏━━━━━━━━━━━━━━━━━━━━━┳━━━━━━━━━━━━━━━━━━━┳━━━━━━━━━━━━┳━━━━━━━━━━━━━━━━━━━┓\n",
       "┃\u001b[1m \u001b[0m\u001b[1mLayer (type)       \u001b[0m\u001b[1m \u001b[0m┃\u001b[1m \u001b[0m\u001b[1mOutput Shape     \u001b[0m\u001b[1m \u001b[0m┃\u001b[1m \u001b[0m\u001b[1m   Param #\u001b[0m\u001b[1m \u001b[0m┃\u001b[1m \u001b[0m\u001b[1mConnected to     \u001b[0m\u001b[1m \u001b[0m┃\n",
       "┡━━━━━━━━━━━━━━━━━━━━━╇━━━━━━━━━━━━━━━━━━━╇━━━━━━━━━━━━╇━━━━━━━━━━━━━━━━━━━┩\n",
       "│ input_layer_8       │ (\u001b[38;5;45mNone\u001b[0m, \u001b[38;5;34m17\u001b[0m)        │          \u001b[38;5;34m0\u001b[0m │ -                 │\n",
       "│ (\u001b[38;5;33mInputLayer\u001b[0m)        │                   │            │                   │\n",
       "├─────────────────────┼───────────────────┼────────────┼───────────────────┤\n",
       "│ embedding_7         │ (\u001b[38;5;45mNone\u001b[0m, \u001b[38;5;34m17\u001b[0m, \u001b[38;5;34m64\u001b[0m)    │    \u001b[38;5;34m320,000\u001b[0m │ input_layer_8[\u001b[38;5;34m0\u001b[0m]… │\n",
       "│ (\u001b[38;5;33mEmbedding\u001b[0m)         │                   │            │                   │\n",
       "├─────────────────────┼───────────────────┼────────────┼───────────────────┤\n",
       "│ lstm_13 (\u001b[38;5;33mLSTM\u001b[0m)      │ (\u001b[38;5;45mNone\u001b[0m, \u001b[38;5;34m64\u001b[0m)        │     \u001b[38;5;34m33,024\u001b[0m │ embedding_7[\u001b[38;5;34m0\u001b[0m][\u001b[38;5;34m0\u001b[0m] │\n",
       "├─────────────────────┼───────────────────┼────────────┼───────────────────┤\n",
       "│ disease_output      │ (\u001b[38;5;45mNone\u001b[0m, \u001b[38;5;34m178\u001b[0m)       │     \u001b[38;5;34m11,570\u001b[0m │ lstm_13[\u001b[38;5;34m0\u001b[0m][\u001b[38;5;34m0\u001b[0m]     │\n",
       "│ (\u001b[38;5;33mDense\u001b[0m)             │                   │            │                   │\n",
       "├─────────────────────┼───────────────────┼────────────┼───────────────────┤\n",
       "│ prescription_output │ (\u001b[38;5;45mNone\u001b[0m, \u001b[38;5;34m388\u001b[0m)       │     \u001b[38;5;34m25,220\u001b[0m │ lstm_13[\u001b[38;5;34m0\u001b[0m][\u001b[38;5;34m0\u001b[0m]     │\n",
       "│ (\u001b[38;5;33mDense\u001b[0m)             │                   │            │                   │\n",
       "└─────────────────────┴───────────────────┴────────────┴───────────────────┘\n"
      ]
     },
     "metadata": {},
     "output_type": "display_data"
    },
    {
     "data": {
      "text/html": [
       "<pre style=\"white-space:pre;overflow-x:auto;line-height:normal;font-family:Menlo,'DejaVu Sans Mono',consolas,'Courier New',monospace\"><span style=\"font-weight: bold\"> Total params: </span><span style=\"color: #00af00; text-decoration-color: #00af00\">389,814</span> (1.49 MB)\n",
       "</pre>\n"
      ],
      "text/plain": [
       "\u001b[1m Total params: \u001b[0m\u001b[38;5;34m389,814\u001b[0m (1.49 MB)\n"
      ]
     },
     "metadata": {},
     "output_type": "display_data"
    },
    {
     "data": {
      "text/html": [
       "<pre style=\"white-space:pre;overflow-x:auto;line-height:normal;font-family:Menlo,'DejaVu Sans Mono',consolas,'Courier New',monospace\"><span style=\"font-weight: bold\"> Trainable params: </span><span style=\"color: #00af00; text-decoration-color: #00af00\">389,814</span> (1.49 MB)\n",
       "</pre>\n"
      ],
      "text/plain": [
       "\u001b[1m Trainable params: \u001b[0m\u001b[38;5;34m389,814\u001b[0m (1.49 MB)\n"
      ]
     },
     "metadata": {},
     "output_type": "display_data"
    },
    {
     "data": {
      "text/html": [
       "<pre style=\"white-space:pre;overflow-x:auto;line-height:normal;font-family:Menlo,'DejaVu Sans Mono',consolas,'Courier New',monospace\"><span style=\"font-weight: bold\"> Non-trainable params: </span><span style=\"color: #00af00; text-decoration-color: #00af00\">0</span> (0.00 B)\n",
       "</pre>\n"
      ],
      "text/plain": [
       "\u001b[1m Non-trainable params: \u001b[0m\u001b[38;5;34m0\u001b[0m (0.00 B)\n"
      ]
     },
     "metadata": {},
     "output_type": "display_data"
    }
   ],
   "source": [
    "model = Model(inputs=input_layer, outputs=[disease_output, prescription_output])\n",
    "\n",
    "model.compile(\n",
    "    loss={'disease_output': 'categorical_crossentropy', \n",
    "    'prescription_output': 'categorical_crossentropy'},\n",
    "    optimizer='adam',\n",
    "    metrics={'disease_output': ['accuracy'], 'prescription_output': ['accuracy']}\n",
    ")\n",
    "\n",
    "model.summary()"
   ]
  },
  {
   "cell_type": "code",
   "execution_count": 88,
   "metadata": {},
   "outputs": [
    {
     "name": "stdout",
     "output_type": "stream",
     "text": [
      "Epoch 1/150\n",
      "\u001b[1m13/13\u001b[0m \u001b[32m━━━━━━━━━━━━━━━━━━━━\u001b[0m\u001b[37m\u001b[0m \u001b[1m0s\u001b[0m 11ms/step - disease_output_accuracy: 0.9553 - loss: 1.1294 - prescription_output_accuracy: 0.7984\n",
      "Epoch 2/150\n",
      "\u001b[1m13/13\u001b[0m \u001b[32m━━━━━━━━━━━━━━━━━━━━\u001b[0m\u001b[37m\u001b[0m \u001b[1m0s\u001b[0m 11ms/step - disease_output_accuracy: 0.9543 - loss: 1.0216 - prescription_output_accuracy: 0.8385\n",
      "Epoch 3/150\n",
      "\u001b[1m13/13\u001b[0m \u001b[32m━━━━━━━━━━━━━━━━━━━━\u001b[0m\u001b[37m\u001b[0m \u001b[1m0s\u001b[0m 11ms/step - disease_output_accuracy: 0.9545 - loss: 0.9887 - prescription_output_accuracy: 0.8489\n",
      "Epoch 4/150\n",
      "\u001b[1m13/13\u001b[0m \u001b[32m━━━━━━━━━━━━━━━━━━━━\u001b[0m\u001b[37m\u001b[0m \u001b[1m0s\u001b[0m 11ms/step - disease_output_accuracy: 0.9322 - loss: 1.0554 - prescription_output_accuracy: 0.8470\n",
      "Epoch 5/150\n",
      "\u001b[1m13/13\u001b[0m \u001b[32m━━━━━━━━━━━━━━━━━━━━\u001b[0m\u001b[37m\u001b[0m \u001b[1m0s\u001b[0m 10ms/step - disease_output_accuracy: 0.9608 - loss: 0.9775 - prescription_output_accuracy: 0.8716\n",
      "Epoch 6/150\n",
      "\u001b[1m13/13\u001b[0m \u001b[32m━━━━━━━━━━━━━━━━━━━━\u001b[0m\u001b[37m\u001b[0m \u001b[1m0s\u001b[0m 14ms/step - disease_output_accuracy: 0.9567 - loss: 0.9963 - prescription_output_accuracy: 0.8293\n",
      "Epoch 7/150\n",
      "\u001b[1m13/13\u001b[0m \u001b[32m━━━━━━━━━━━━━━━━━━━━\u001b[0m\u001b[37m\u001b[0m \u001b[1m0s\u001b[0m 12ms/step - disease_output_accuracy: 0.9652 - loss: 0.9429 - prescription_output_accuracy: 0.8702\n",
      "Epoch 8/150\n",
      "\u001b[1m13/13\u001b[0m \u001b[32m━━━━━━━━━━━━━━━━━━━━\u001b[0m\u001b[37m\u001b[0m \u001b[1m0s\u001b[0m 13ms/step - disease_output_accuracy: 0.9661 - loss: 0.9735 - prescription_output_accuracy: 0.8590\n",
      "Epoch 9/150\n",
      "\u001b[1m13/13\u001b[0m \u001b[32m━━━━━━━━━━━━━━━━━━━━\u001b[0m\u001b[37m\u001b[0m \u001b[1m0s\u001b[0m 24ms/step - disease_output_accuracy: 0.9689 - loss: 0.8815 - prescription_output_accuracy: 0.8666\n",
      "Epoch 10/150\n",
      "\u001b[1m13/13\u001b[0m \u001b[32m━━━━━━━━━━━━━━━━━━━━\u001b[0m\u001b[37m\u001b[0m \u001b[1m0s\u001b[0m 12ms/step - disease_output_accuracy: 0.9629 - loss: 0.9614 - prescription_output_accuracy: 0.8526\n",
      "Epoch 11/150\n",
      "\u001b[1m13/13\u001b[0m \u001b[32m━━━━━━━━━━━━━━━━━━━━\u001b[0m\u001b[37m\u001b[0m \u001b[1m0s\u001b[0m 11ms/step - disease_output_accuracy: 0.9675 - loss: 0.9114 - prescription_output_accuracy: 0.8859\n",
      "Epoch 12/150\n",
      "\u001b[1m13/13\u001b[0m \u001b[32m━━━━━━━━━━━━━━━━━━━━\u001b[0m\u001b[37m\u001b[0m \u001b[1m0s\u001b[0m 10ms/step - disease_output_accuracy: 0.9672 - loss: 0.9077 - prescription_output_accuracy: 0.8760\n",
      "Epoch 13/150\n",
      "\u001b[1m13/13\u001b[0m \u001b[32m━━━━━━━━━━━━━━━━━━━━\u001b[0m\u001b[37m\u001b[0m \u001b[1m0s\u001b[0m 10ms/step - disease_output_accuracy: 0.9799 - loss: 0.8468 - prescription_output_accuracy: 0.9029\n",
      "Epoch 14/150\n",
      "\u001b[1m13/13\u001b[0m \u001b[32m━━━━━━━━━━━━━━━━━━━━\u001b[0m\u001b[37m\u001b[0m \u001b[1m0s\u001b[0m 10ms/step - disease_output_accuracy: 0.9613 - loss: 0.8788 - prescription_output_accuracy: 0.8840\n",
      "Epoch 15/150\n",
      "\u001b[1m13/13\u001b[0m \u001b[32m━━━━━━━━━━━━━━━━━━━━\u001b[0m\u001b[37m\u001b[0m \u001b[1m0s\u001b[0m 11ms/step - disease_output_accuracy: 0.9664 - loss: 0.8617 - prescription_output_accuracy: 0.8884\n",
      "Epoch 16/150\n",
      "\u001b[1m13/13\u001b[0m \u001b[32m━━━━━━━━━━━━━━━━━━━━\u001b[0m\u001b[37m\u001b[0m \u001b[1m0s\u001b[0m 11ms/step - disease_output_accuracy: 0.9810 - loss: 0.8319 - prescription_output_accuracy: 0.8812\n",
      "Epoch 17/150\n",
      "\u001b[1m13/13\u001b[0m \u001b[32m━━━━━━━━━━━━━━━━━━━━\u001b[0m\u001b[37m\u001b[0m \u001b[1m0s\u001b[0m 11ms/step - disease_output_accuracy: 0.9742 - loss: 0.8404 - prescription_output_accuracy: 0.8904\n",
      "Epoch 18/150\n",
      "\u001b[1m13/13\u001b[0m \u001b[32m━━━━━━━━━━━━━━━━━━━━\u001b[0m\u001b[37m\u001b[0m \u001b[1m0s\u001b[0m 11ms/step - disease_output_accuracy: 0.9710 - loss: 0.8851 - prescription_output_accuracy: 0.8720\n",
      "Epoch 19/150\n",
      "\u001b[1m13/13\u001b[0m \u001b[32m━━━━━━━━━━━━━━━━━━━━\u001b[0m\u001b[37m\u001b[0m \u001b[1m0s\u001b[0m 12ms/step - disease_output_accuracy: 0.9682 - loss: 0.8806 - prescription_output_accuracy: 0.8535\n",
      "Epoch 20/150\n",
      "\u001b[1m13/13\u001b[0m \u001b[32m━━━━━━━━━━━━━━━━━━━━\u001b[0m\u001b[37m\u001b[0m \u001b[1m0s\u001b[0m 10ms/step - disease_output_accuracy: 0.9842 - loss: 0.7995 - prescription_output_accuracy: 0.8952\n",
      "Epoch 21/150\n",
      "\u001b[1m13/13\u001b[0m \u001b[32m━━━━━━━━━━━━━━━━━━━━\u001b[0m\u001b[37m\u001b[0m \u001b[1m0s\u001b[0m 11ms/step - disease_output_accuracy: 0.9700 - loss: 0.8286 - prescription_output_accuracy: 0.8960\n",
      "Epoch 22/150\n",
      "\u001b[1m13/13\u001b[0m \u001b[32m━━━━━━━━━━━━━━━━━━━━\u001b[0m\u001b[37m\u001b[0m \u001b[1m0s\u001b[0m 10ms/step - disease_output_accuracy: 0.9901 - loss: 0.8373 - prescription_output_accuracy: 0.8928\n",
      "Epoch 23/150\n",
      "\u001b[1m13/13\u001b[0m \u001b[32m━━━━━━━━━━━━━━━━━━━━\u001b[0m\u001b[37m\u001b[0m \u001b[1m0s\u001b[0m 13ms/step - disease_output_accuracy: 0.9750 - loss: 0.8104 - prescription_output_accuracy: 0.8920\n",
      "Epoch 24/150\n",
      "\u001b[1m13/13\u001b[0m \u001b[32m━━━━━━━━━━━━━━━━━━━━\u001b[0m\u001b[37m\u001b[0m \u001b[1m0s\u001b[0m 10ms/step - disease_output_accuracy: 0.9871 - loss: 0.7731 - prescription_output_accuracy: 0.9043\n",
      "Epoch 25/150\n",
      "\u001b[1m13/13\u001b[0m \u001b[32m━━━━━━━━━━━━━━━━━━━━\u001b[0m\u001b[37m\u001b[0m \u001b[1m0s\u001b[0m 10ms/step - disease_output_accuracy: 0.9862 - loss: 0.7545 - prescription_output_accuracy: 0.8931\n",
      "Epoch 26/150\n",
      "\u001b[1m13/13\u001b[0m \u001b[32m━━━━━━━━━━━━━━━━━━━━\u001b[0m\u001b[37m\u001b[0m \u001b[1m0s\u001b[0m 10ms/step - disease_output_accuracy: 0.9755 - loss: 0.8115 - prescription_output_accuracy: 0.9037\n",
      "Epoch 27/150\n",
      "\u001b[1m13/13\u001b[0m \u001b[32m━━━━━━━━━━━━━━━━━━━━\u001b[0m\u001b[37m\u001b[0m \u001b[1m0s\u001b[0m 11ms/step - disease_output_accuracy: 0.9787 - loss: 0.7958 - prescription_output_accuracy: 0.8821\n",
      "Epoch 28/150\n",
      "\u001b[1m13/13\u001b[0m \u001b[32m━━━━━━━━━━━━━━━━━━━━\u001b[0m\u001b[37m\u001b[0m \u001b[1m0s\u001b[0m 12ms/step - disease_output_accuracy: 0.9826 - loss: 0.7925 - prescription_output_accuracy: 0.8981\n",
      "Epoch 29/150\n",
      "\u001b[1m13/13\u001b[0m \u001b[32m━━━━━━━━━━━━━━━━━━━━\u001b[0m\u001b[37m\u001b[0m \u001b[1m0s\u001b[0m 12ms/step - disease_output_accuracy: 0.9740 - loss: 0.7681 - prescription_output_accuracy: 0.8889\n",
      "Epoch 30/150\n",
      "\u001b[1m13/13\u001b[0m \u001b[32m━━━━━━━━━━━━━━━━━━━━\u001b[0m\u001b[37m\u001b[0m \u001b[1m0s\u001b[0m 11ms/step - disease_output_accuracy: 0.9840 - loss: 0.7183 - prescription_output_accuracy: 0.9146\n",
      "Epoch 31/150\n",
      "\u001b[1m13/13\u001b[0m \u001b[32m━━━━━━━━━━━━━━━━━━━━\u001b[0m\u001b[37m\u001b[0m \u001b[1m0s\u001b[0m 10ms/step - disease_output_accuracy: 0.9800 - loss: 0.7513 - prescription_output_accuracy: 0.9050\n",
      "Epoch 32/150\n",
      "\u001b[1m13/13\u001b[0m \u001b[32m━━━━━━━━━━━━━━━━━━━━\u001b[0m\u001b[37m\u001b[0m \u001b[1m0s\u001b[0m 11ms/step - disease_output_accuracy: 0.9830 - loss: 0.7446 - prescription_output_accuracy: 0.9010\n",
      "Epoch 33/150\n",
      "\u001b[1m13/13\u001b[0m \u001b[32m━━━━━━━━━━━━━━━━━━━━\u001b[0m\u001b[37m\u001b[0m \u001b[1m0s\u001b[0m 11ms/step - disease_output_accuracy: 0.9866 - loss: 0.7466 - prescription_output_accuracy: 0.9217\n",
      "Epoch 34/150\n",
      "\u001b[1m13/13\u001b[0m \u001b[32m━━━━━━━━━━━━━━━━━━━━\u001b[0m\u001b[37m\u001b[0m \u001b[1m0s\u001b[0m 11ms/step - disease_output_accuracy: 0.9844 - loss: 0.7310 - prescription_output_accuracy: 0.9126\n",
      "Epoch 35/150\n",
      "\u001b[1m13/13\u001b[0m \u001b[32m━━━━━━━━━━━━━━━━━━━━\u001b[0m\u001b[37m\u001b[0m \u001b[1m0s\u001b[0m 10ms/step - disease_output_accuracy: 0.9814 - loss: 0.7303 - prescription_output_accuracy: 0.9075\n",
      "Epoch 36/150\n",
      "\u001b[1m13/13\u001b[0m \u001b[32m━━━━━━━━━━━━━━━━━━━━\u001b[0m\u001b[37m\u001b[0m \u001b[1m0s\u001b[0m 11ms/step - disease_output_accuracy: 0.9861 - loss: 0.7464 - prescription_output_accuracy: 0.9134\n",
      "Epoch 37/150\n",
      "\u001b[1m13/13\u001b[0m \u001b[32m━━━━━━━━━━━━━━━━━━━━\u001b[0m\u001b[37m\u001b[0m \u001b[1m0s\u001b[0m 12ms/step - disease_output_accuracy: 0.9830 - loss: 0.7650 - prescription_output_accuracy: 0.9098\n",
      "Epoch 38/150\n",
      "\u001b[1m13/13\u001b[0m \u001b[32m━━━━━━━━━━━━━━━━━━━━\u001b[0m\u001b[37m\u001b[0m \u001b[1m0s\u001b[0m 10ms/step - disease_output_accuracy: 0.9825 - loss: 0.7766 - prescription_output_accuracy: 0.8992\n",
      "Epoch 39/150\n",
      "\u001b[1m13/13\u001b[0m \u001b[32m━━━━━━━━━━━━━━━━━━━━\u001b[0m\u001b[37m\u001b[0m \u001b[1m0s\u001b[0m 11ms/step - disease_output_accuracy: 0.9938 - loss: 0.7263 - prescription_output_accuracy: 0.9144\n",
      "Epoch 40/150\n",
      "\u001b[1m13/13\u001b[0m \u001b[32m━━━━━━━━━━━━━━━━━━━━\u001b[0m\u001b[37m\u001b[0m \u001b[1m0s\u001b[0m 17ms/step - disease_output_accuracy: 0.9863 - loss: 0.7011 - prescription_output_accuracy: 0.9107\n",
      "Epoch 41/150\n",
      "\u001b[1m13/13\u001b[0m \u001b[32m━━━━━━━━━━━━━━━━━━━━\u001b[0m\u001b[37m\u001b[0m \u001b[1m0s\u001b[0m 11ms/step - disease_output_accuracy: 0.9881 - loss: 0.7228 - prescription_output_accuracy: 0.8925\n",
      "Epoch 42/150\n",
      "\u001b[1m13/13\u001b[0m \u001b[32m━━━━━━━━━━━━━━━━━━━━\u001b[0m\u001b[37m\u001b[0m \u001b[1m0s\u001b[0m 10ms/step - disease_output_accuracy: 0.9840 - loss: 0.7526 - prescription_output_accuracy: 0.8928\n",
      "Epoch 43/150\n",
      "\u001b[1m13/13\u001b[0m \u001b[32m━━━━━━━━━━━━━━━━━━━━\u001b[0m\u001b[37m\u001b[0m \u001b[1m0s\u001b[0m 11ms/step - disease_output_accuracy: 0.9793 - loss: 0.6857 - prescription_output_accuracy: 0.9232\n",
      "Epoch 44/150\n",
      "\u001b[1m13/13\u001b[0m \u001b[32m━━━━━━━━━━━━━━━━━━━━\u001b[0m\u001b[37m\u001b[0m \u001b[1m0s\u001b[0m 10ms/step - disease_output_accuracy: 0.9857 - loss: 0.7032 - prescription_output_accuracy: 0.9395\n",
      "Epoch 45/150\n",
      "\u001b[1m13/13\u001b[0m \u001b[32m━━━━━━━━━━━━━━━━━━━━\u001b[0m\u001b[37m\u001b[0m \u001b[1m0s\u001b[0m 11ms/step - disease_output_accuracy: 0.9931 - loss: 0.6413 - prescription_output_accuracy: 0.9303\n",
      "Epoch 46/150\n",
      "\u001b[1m13/13\u001b[0m \u001b[32m━━━━━━━━━━━━━━━━━━━━\u001b[0m\u001b[37m\u001b[0m \u001b[1m0s\u001b[0m 10ms/step - disease_output_accuracy: 0.9871 - loss: 0.6724 - prescription_output_accuracy: 0.9370\n",
      "Epoch 47/150\n",
      "\u001b[1m13/13\u001b[0m \u001b[32m━━━━━━━━━━━━━━━━━━━━\u001b[0m\u001b[37m\u001b[0m \u001b[1m0s\u001b[0m 11ms/step - disease_output_accuracy: 0.9864 - loss: 0.6630 - prescription_output_accuracy: 0.9222\n",
      "Epoch 48/150\n",
      "\u001b[1m13/13\u001b[0m \u001b[32m━━━━━━━━━━━━━━━━━━━━\u001b[0m\u001b[37m\u001b[0m \u001b[1m0s\u001b[0m 10ms/step - disease_output_accuracy: 0.9931 - loss: 0.6498 - prescription_output_accuracy: 0.9288\n",
      "Epoch 49/150\n",
      "\u001b[1m13/13\u001b[0m \u001b[32m━━━━━━━━━━━━━━━━━━━━\u001b[0m\u001b[37m\u001b[0m \u001b[1m0s\u001b[0m 10ms/step - disease_output_accuracy: 0.9915 - loss: 0.6660 - prescription_output_accuracy: 0.9206\n",
      "Epoch 50/150\n",
      "\u001b[1m13/13\u001b[0m \u001b[32m━━━━━━━━━━━━━━━━━━━━\u001b[0m\u001b[37m\u001b[0m \u001b[1m0s\u001b[0m 11ms/step - disease_output_accuracy: 0.9854 - loss: 0.6826 - prescription_output_accuracy: 0.9072\n",
      "Epoch 51/150\n",
      "\u001b[1m13/13\u001b[0m \u001b[32m━━━━━━━━━━━━━━━━━━━━\u001b[0m\u001b[37m\u001b[0m \u001b[1m0s\u001b[0m 11ms/step - disease_output_accuracy: 0.9888 - loss: 0.6535 - prescription_output_accuracy: 0.9001\n",
      "Epoch 52/150\n",
      "\u001b[1m13/13\u001b[0m \u001b[32m━━━━━━━━━━━━━━━━━━━━\u001b[0m\u001b[37m\u001b[0m \u001b[1m0s\u001b[0m 11ms/step - disease_output_accuracy: 0.9832 - loss: 0.6783 - prescription_output_accuracy: 0.9154\n",
      "Epoch 53/150\n",
      "\u001b[1m13/13\u001b[0m \u001b[32m━━━━━━━━━━━━━━━━━━━━\u001b[0m\u001b[37m\u001b[0m \u001b[1m0s\u001b[0m 11ms/step - disease_output_accuracy: 0.9871 - loss: 0.6682 - prescription_output_accuracy: 0.9058\n",
      "Epoch 54/150\n",
      "\u001b[1m13/13\u001b[0m \u001b[32m━━━━━━━━━━━━━━━━━━━━\u001b[0m\u001b[37m\u001b[0m \u001b[1m0s\u001b[0m 10ms/step - disease_output_accuracy: 0.9899 - loss: 0.6090 - prescription_output_accuracy: 0.9395\n",
      "Epoch 55/150\n",
      "\u001b[1m13/13\u001b[0m \u001b[32m━━━━━━━━━━━━━━━━━━━━\u001b[0m\u001b[37m\u001b[0m \u001b[1m0s\u001b[0m 11ms/step - disease_output_accuracy: 0.9815 - loss: 0.7149 - prescription_output_accuracy: 0.9212\n",
      "Epoch 56/150\n",
      "\u001b[1m13/13\u001b[0m \u001b[32m━━━━━━━━━━━━━━━━━━━━\u001b[0m\u001b[37m\u001b[0m \u001b[1m0s\u001b[0m 10ms/step - disease_output_accuracy: 0.9972 - loss: 0.6492 - prescription_output_accuracy: 0.9304\n",
      "Epoch 57/150\n",
      "\u001b[1m13/13\u001b[0m \u001b[32m━━━━━━━━━━━━━━━━━━━━\u001b[0m\u001b[37m\u001b[0m \u001b[1m0s\u001b[0m 11ms/step - disease_output_accuracy: 0.9909 - loss: 0.6381 - prescription_output_accuracy: 0.9197\n",
      "Epoch 58/150\n",
      "\u001b[1m13/13\u001b[0m \u001b[32m━━━━━━━━━━━━━━━━━━━━\u001b[0m\u001b[37m\u001b[0m \u001b[1m0s\u001b[0m 10ms/step - disease_output_accuracy: 0.9878 - loss: 0.6515 - prescription_output_accuracy: 0.9145\n",
      "Epoch 59/150\n",
      "\u001b[1m13/13\u001b[0m \u001b[32m━━━━━━━━━━━━━━━━━━━━\u001b[0m\u001b[37m\u001b[0m \u001b[1m0s\u001b[0m 11ms/step - disease_output_accuracy: 0.9900 - loss: 0.6186 - prescription_output_accuracy: 0.9398\n",
      "Epoch 60/150\n",
      "\u001b[1m13/13\u001b[0m \u001b[32m━━━━━━━━━━━━━━━━━━━━\u001b[0m\u001b[37m\u001b[0m \u001b[1m0s\u001b[0m 10ms/step - disease_output_accuracy: 0.9911 - loss: 0.6426 - prescription_output_accuracy: 0.9427\n",
      "Epoch 61/150\n",
      "\u001b[1m13/13\u001b[0m \u001b[32m━━━━━━━━━━━━━━━━━━━━\u001b[0m\u001b[37m\u001b[0m \u001b[1m0s\u001b[0m 11ms/step - disease_output_accuracy: 0.9974 - loss: 0.6339 - prescription_output_accuracy: 0.9215\n",
      "Epoch 62/150\n",
      "\u001b[1m13/13\u001b[0m \u001b[32m━━━━━━━━━━━━━━━━━━━━\u001b[0m\u001b[37m\u001b[0m \u001b[1m0s\u001b[0m 11ms/step - disease_output_accuracy: 0.9905 - loss: 0.6205 - prescription_output_accuracy: 0.9304\n",
      "Epoch 63/150\n",
      "\u001b[1m13/13\u001b[0m \u001b[32m━━━━━━━━━━━━━━━━━━━━\u001b[0m\u001b[37m\u001b[0m \u001b[1m0s\u001b[0m 11ms/step - disease_output_accuracy: 0.9959 - loss: 0.5881 - prescription_output_accuracy: 0.9242\n",
      "Epoch 64/150\n",
      "\u001b[1m13/13\u001b[0m \u001b[32m━━━━━━━━━━━━━━━━━━━━\u001b[0m\u001b[37m\u001b[0m \u001b[1m0s\u001b[0m 16ms/step - disease_output_accuracy: 0.9875 - loss: 0.6319 - prescription_output_accuracy: 0.9396\n",
      "Epoch 65/150\n",
      "\u001b[1m13/13\u001b[0m \u001b[32m━━━━━━━━━━━━━━━━━━━━\u001b[0m\u001b[37m\u001b[0m \u001b[1m0s\u001b[0m 10ms/step - disease_output_accuracy: 0.9970 - loss: 0.5789 - prescription_output_accuracy: 0.9301\n",
      "Epoch 66/150\n",
      "\u001b[1m13/13\u001b[0m \u001b[32m━━━━━━━━━━━━━━━━━━━━\u001b[0m\u001b[37m\u001b[0m \u001b[1m0s\u001b[0m 11ms/step - disease_output_accuracy: 0.9939 - loss: 0.6127 - prescription_output_accuracy: 0.9363\n",
      "Epoch 67/150\n",
      "\u001b[1m13/13\u001b[0m \u001b[32m━━━━━━━━━━━━━━━━━━━━\u001b[0m\u001b[37m\u001b[0m \u001b[1m0s\u001b[0m 12ms/step - disease_output_accuracy: 0.9918 - loss: 0.5963 - prescription_output_accuracy: 0.9255\n",
      "Epoch 68/150\n",
      "\u001b[1m13/13\u001b[0m \u001b[32m━━━━━━━━━━━━━━━━━━━━\u001b[0m\u001b[37m\u001b[0m \u001b[1m0s\u001b[0m 10ms/step - disease_output_accuracy: 0.9971 - loss: 0.6069 - prescription_output_accuracy: 0.9313\n",
      "Epoch 69/150\n",
      "\u001b[1m13/13\u001b[0m \u001b[32m━━━━━━━━━━━━━━━━━━━━\u001b[0m\u001b[37m\u001b[0m \u001b[1m0s\u001b[0m 10ms/step - disease_output_accuracy: 0.9880 - loss: 0.5924 - prescription_output_accuracy: 0.9330\n",
      "Epoch 70/150\n",
      "\u001b[1m13/13\u001b[0m \u001b[32m━━━━━━━━━━━━━━━━━━━━\u001b[0m\u001b[37m\u001b[0m \u001b[1m0s\u001b[0m 10ms/step - disease_output_accuracy: 0.9954 - loss: 0.5689 - prescription_output_accuracy: 0.9342\n",
      "Epoch 71/150\n",
      "\u001b[1m13/13\u001b[0m \u001b[32m━━━━━━━━━━━━━━━━━━━━\u001b[0m\u001b[37m\u001b[0m \u001b[1m0s\u001b[0m 11ms/step - disease_output_accuracy: 0.9954 - loss: 0.5911 - prescription_output_accuracy: 0.9403\n",
      "Epoch 72/150\n",
      "\u001b[1m13/13\u001b[0m \u001b[32m━━━━━━━━━━━━━━━━━━━━\u001b[0m\u001b[37m\u001b[0m \u001b[1m0s\u001b[0m 10ms/step - disease_output_accuracy: 0.9966 - loss: 0.5597 - prescription_output_accuracy: 0.9157\n",
      "Epoch 73/150\n",
      "\u001b[1m13/13\u001b[0m \u001b[32m━━━━━━━━━━━━━━━━━━━━\u001b[0m\u001b[37m\u001b[0m \u001b[1m0s\u001b[0m 11ms/step - disease_output_accuracy: 0.9934 - loss: 0.6016 - prescription_output_accuracy: 0.9345\n",
      "Epoch 74/150\n",
      "\u001b[1m13/13\u001b[0m \u001b[32m━━━━━━━━━━━━━━━━━━━━\u001b[0m\u001b[37m\u001b[0m \u001b[1m0s\u001b[0m 9ms/step - disease_output_accuracy: 0.9902 - loss: 0.6063 - prescription_output_accuracy: 0.9359\n",
      "Epoch 75/150\n",
      "\u001b[1m13/13\u001b[0m \u001b[32m━━━━━━━━━━━━━━━━━━━━\u001b[0m\u001b[37m\u001b[0m \u001b[1m0s\u001b[0m 11ms/step - disease_output_accuracy: 0.9926 - loss: 0.5566 - prescription_output_accuracy: 0.9440\n",
      "Epoch 76/150\n",
      "\u001b[1m13/13\u001b[0m \u001b[32m━━━━━━━━━━━━━━━━━━━━\u001b[0m\u001b[37m\u001b[0m \u001b[1m0s\u001b[0m 10ms/step - disease_output_accuracy: 0.9909 - loss: 0.5781 - prescription_output_accuracy: 0.9425\n",
      "Epoch 77/150\n",
      "\u001b[1m13/13\u001b[0m \u001b[32m━━━━━━━━━━━━━━━━━━━━\u001b[0m\u001b[37m\u001b[0m \u001b[1m0s\u001b[0m 11ms/step - disease_output_accuracy: 0.9931 - loss: 0.5768 - prescription_output_accuracy: 0.9290\n",
      "Epoch 78/150\n",
      "\u001b[1m13/13\u001b[0m \u001b[32m━━━━━━━━━━━━━━━━━━━━\u001b[0m\u001b[37m\u001b[0m \u001b[1m0s\u001b[0m 10ms/step - disease_output_accuracy: 0.9969 - loss: 0.5563 - prescription_output_accuracy: 0.9379\n",
      "Epoch 79/150\n",
      "\u001b[1m13/13\u001b[0m \u001b[32m━━━━━━━━━━━━━━━━━━━━\u001b[0m\u001b[37m\u001b[0m \u001b[1m0s\u001b[0m 11ms/step - disease_output_accuracy: 0.9975 - loss: 0.5857 - prescription_output_accuracy: 0.9278\n",
      "Epoch 80/150\n",
      "\u001b[1m13/13\u001b[0m \u001b[32m━━━━━━━━━━━━━━━━━━━━\u001b[0m\u001b[37m\u001b[0m \u001b[1m0s\u001b[0m 11ms/step - disease_output_accuracy: 0.9983 - loss: 0.5365 - prescription_output_accuracy: 0.9422\n",
      "Epoch 81/150\n",
      "\u001b[1m13/13\u001b[0m \u001b[32m━━━━━━━━━━━━━━━━━━━━\u001b[0m\u001b[37m\u001b[0m \u001b[1m0s\u001b[0m 11ms/step - disease_output_accuracy: 0.9967 - loss: 0.5417 - prescription_output_accuracy: 0.9415\n",
      "Epoch 82/150\n",
      "\u001b[1m13/13\u001b[0m \u001b[32m━━━━━━━━━━━━━━━━━━━━\u001b[0m\u001b[37m\u001b[0m \u001b[1m0s\u001b[0m 10ms/step - disease_output_accuracy: 0.9978 - loss: 0.5724 - prescription_output_accuracy: 0.9454\n",
      "Epoch 83/150\n",
      "\u001b[1m13/13\u001b[0m \u001b[32m━━━━━━━━━━━━━━━━━━━━\u001b[0m\u001b[37m\u001b[0m \u001b[1m0s\u001b[0m 12ms/step - disease_output_accuracy: 0.9984 - loss: 0.5418 - prescription_output_accuracy: 0.9112\n",
      "Epoch 84/150\n",
      "\u001b[1m13/13\u001b[0m \u001b[32m━━━━━━━━━━━━━━━━━━━━\u001b[0m\u001b[37m\u001b[0m \u001b[1m0s\u001b[0m 12ms/step - disease_output_accuracy: 0.9899 - loss: 0.5261 - prescription_output_accuracy: 0.9578\n",
      "Epoch 85/150\n",
      "\u001b[1m13/13\u001b[0m \u001b[32m━━━━━━━━━━━━━━━━━━━━\u001b[0m\u001b[37m\u001b[0m \u001b[1m0s\u001b[0m 11ms/step - disease_output_accuracy: 0.9895 - loss: 0.5714 - prescription_output_accuracy: 0.9302\n",
      "Epoch 86/150\n",
      "\u001b[1m13/13\u001b[0m \u001b[32m━━━━━━━━━━━━━━━━━━━━\u001b[0m\u001b[37m\u001b[0m \u001b[1m0s\u001b[0m 12ms/step - disease_output_accuracy: 0.9937 - loss: 0.5206 - prescription_output_accuracy: 0.9531\n",
      "Epoch 87/150\n",
      "\u001b[1m13/13\u001b[0m \u001b[32m━━━━━━━━━━━━━━━━━━━━\u001b[0m\u001b[37m\u001b[0m \u001b[1m0s\u001b[0m 13ms/step - disease_output_accuracy: 0.9987 - loss: 0.5542 - prescription_output_accuracy: 0.9307\n",
      "Epoch 88/150\n",
      "\u001b[1m13/13\u001b[0m \u001b[32m━━━━━━━━━━━━━━━━━━━━\u001b[0m\u001b[37m\u001b[0m \u001b[1m0s\u001b[0m 13ms/step - disease_output_accuracy: 0.9968 - loss: 0.5197 - prescription_output_accuracy: 0.9301\n",
      "Epoch 89/150\n",
      "\u001b[1m13/13\u001b[0m \u001b[32m━━━━━━━━━━━━━━━━━━━━\u001b[0m\u001b[37m\u001b[0m \u001b[1m0s\u001b[0m 10ms/step - disease_output_accuracy: 0.9978 - loss: 0.5223 - prescription_output_accuracy: 0.9454\n",
      "Epoch 90/150\n",
      "\u001b[1m13/13\u001b[0m \u001b[32m━━━━━━━━━━━━━━━━━━━━\u001b[0m\u001b[37m\u001b[0m \u001b[1m0s\u001b[0m 10ms/step - disease_output_accuracy: 0.9927 - loss: 0.5157 - prescription_output_accuracy: 0.9311\n",
      "Epoch 91/150\n",
      "\u001b[1m13/13\u001b[0m \u001b[32m━━━━━━━━━━━━━━━━━━━━\u001b[0m\u001b[37m\u001b[0m \u001b[1m0s\u001b[0m 10ms/step - disease_output_accuracy: 0.9924 - loss: 0.5287 - prescription_output_accuracy: 0.9290\n",
      "Epoch 92/150\n",
      "\u001b[1m13/13\u001b[0m \u001b[32m━━━━━━━━━━━━━━━━━━━━\u001b[0m\u001b[37m\u001b[0m \u001b[1m0s\u001b[0m 11ms/step - disease_output_accuracy: 0.9982 - loss: 0.5049 - prescription_output_accuracy: 0.9381\n",
      "Epoch 93/150\n",
      "\u001b[1m13/13\u001b[0m \u001b[32m━━━━━━━━━━━━━━━━━━━━\u001b[0m\u001b[37m\u001b[0m \u001b[1m0s\u001b[0m 10ms/step - disease_output_accuracy: 0.9970 - loss: 0.5186 - prescription_output_accuracy: 0.9360\n",
      "Epoch 94/150\n",
      "\u001b[1m13/13\u001b[0m \u001b[32m━━━━━━━━━━━━━━━━━━━━\u001b[0m\u001b[37m\u001b[0m \u001b[1m0s\u001b[0m 10ms/step - disease_output_accuracy: 0.9947 - loss: 0.5302 - prescription_output_accuracy: 0.9402\n",
      "Epoch 95/150\n",
      "\u001b[1m13/13\u001b[0m \u001b[32m━━━━━━━━━━━━━━━━━━━━\u001b[0m\u001b[37m\u001b[0m \u001b[1m0s\u001b[0m 10ms/step - disease_output_accuracy: 0.9980 - loss: 0.4705 - prescription_output_accuracy: 0.9366\n",
      "Epoch 96/150\n",
      "\u001b[1m13/13\u001b[0m \u001b[32m━━━━━━━━━━━━━━━━━━━━\u001b[0m\u001b[37m\u001b[0m \u001b[1m0s\u001b[0m 10ms/step - disease_output_accuracy: 0.9905 - loss: 0.5314 - prescription_output_accuracy: 0.9310\n",
      "Epoch 97/150\n",
      "\u001b[1m13/13\u001b[0m \u001b[32m━━━━━━━━━━━━━━━━━━━━\u001b[0m\u001b[37m\u001b[0m \u001b[1m0s\u001b[0m 10ms/step - disease_output_accuracy: 0.9964 - loss: 0.5219 - prescription_output_accuracy: 0.9436\n",
      "Epoch 98/150\n",
      "\u001b[1m13/13\u001b[0m \u001b[32m━━━━━━━━━━━━━━━━━━━━\u001b[0m\u001b[37m\u001b[0m \u001b[1m0s\u001b[0m 10ms/step - disease_output_accuracy: 0.9987 - loss: 0.4860 - prescription_output_accuracy: 0.9435\n",
      "Epoch 99/150\n",
      "\u001b[1m13/13\u001b[0m \u001b[32m━━━━━━━━━━━━━━━━━━━━\u001b[0m\u001b[37m\u001b[0m \u001b[1m0s\u001b[0m 11ms/step - disease_output_accuracy: 0.9977 - loss: 0.4801 - prescription_output_accuracy: 0.9456\n",
      "Epoch 100/150\n",
      "\u001b[1m13/13\u001b[0m \u001b[32m━━━━━━━━━━━━━━━━━━━━\u001b[0m\u001b[37m\u001b[0m \u001b[1m0s\u001b[0m 11ms/step - disease_output_accuracy: 0.9952 - loss: 0.5068 - prescription_output_accuracy: 0.9383\n",
      "Epoch 101/150\n",
      "\u001b[1m13/13\u001b[0m \u001b[32m━━━━━━━━━━━━━━━━━━━━\u001b[0m\u001b[37m\u001b[0m \u001b[1m0s\u001b[0m 14ms/step - disease_output_accuracy: 0.9964 - loss: 0.4791 - prescription_output_accuracy: 0.9537\n",
      "Epoch 102/150\n",
      "\u001b[1m13/13\u001b[0m \u001b[32m━━━━━━━━━━━━━━━━━━━━\u001b[0m\u001b[37m\u001b[0m \u001b[1m0s\u001b[0m 12ms/step - disease_output_accuracy: 0.9978 - loss: 0.4830 - prescription_output_accuracy: 0.9537\n",
      "Epoch 103/150\n",
      "\u001b[1m13/13\u001b[0m \u001b[32m━━━━━━━━━━━━━━━━━━━━\u001b[0m\u001b[37m\u001b[0m \u001b[1m0s\u001b[0m 10ms/step - disease_output_accuracy: 0.9959 - loss: 0.4754 - prescription_output_accuracy: 0.9503\n",
      "Epoch 104/150\n",
      "\u001b[1m13/13\u001b[0m \u001b[32m━━━━━━━━━━━━━━━━━━━━\u001b[0m\u001b[37m\u001b[0m \u001b[1m0s\u001b[0m 11ms/step - disease_output_accuracy: 0.9943 - loss: 0.4568 - prescription_output_accuracy: 0.9668\n",
      "Epoch 105/150\n",
      "\u001b[1m13/13\u001b[0m \u001b[32m━━━━━━━━━━━━━━━━━━━━\u001b[0m\u001b[37m\u001b[0m \u001b[1m0s\u001b[0m 10ms/step - disease_output_accuracy: 0.9951 - loss: 0.4808 - prescription_output_accuracy: 0.9539\n",
      "Epoch 106/150\n",
      "\u001b[1m13/13\u001b[0m \u001b[32m━━━━━━━━━━━━━━━━━━━━\u001b[0m\u001b[37m\u001b[0m \u001b[1m0s\u001b[0m 11ms/step - disease_output_accuracy: 0.9929 - loss: 0.4970 - prescription_output_accuracy: 0.9483\n",
      "Epoch 107/150\n",
      "\u001b[1m13/13\u001b[0m \u001b[32m━━━━━━━━━━━━━━━━━━━━\u001b[0m\u001b[37m\u001b[0m \u001b[1m0s\u001b[0m 12ms/step - disease_output_accuracy: 0.9912 - loss: 0.4572 - prescription_output_accuracy: 0.9626\n",
      "Epoch 108/150\n",
      "\u001b[1m13/13\u001b[0m \u001b[32m━━━━━━━━━━━━━━━━━━━━\u001b[0m\u001b[37m\u001b[0m \u001b[1m0s\u001b[0m 11ms/step - disease_output_accuracy: 0.9983 - loss: 0.4796 - prescription_output_accuracy: 0.9477\n",
      "Epoch 109/150\n",
      "\u001b[1m13/13\u001b[0m \u001b[32m━━━━━━━━━━━━━━━━━━━━\u001b[0m\u001b[37m\u001b[0m \u001b[1m0s\u001b[0m 10ms/step - disease_output_accuracy: 0.9930 - loss: 0.4870 - prescription_output_accuracy: 0.9175\n",
      "Epoch 110/150\n",
      "\u001b[1m13/13\u001b[0m \u001b[32m━━━━━━━━━━━━━━━━━━━━\u001b[0m\u001b[37m\u001b[0m \u001b[1m0s\u001b[0m 10ms/step - disease_output_accuracy: 0.9955 - loss: 0.4939 - prescription_output_accuracy: 0.9367\n",
      "Epoch 111/150\n",
      "\u001b[1m13/13\u001b[0m \u001b[32m━━━━━━━━━━━━━━━━━━━━\u001b[0m\u001b[37m\u001b[0m \u001b[1m0s\u001b[0m 10ms/step - disease_output_accuracy: 0.9684 - loss: 0.5965 - prescription_output_accuracy: 0.9046\n",
      "Epoch 112/150\n",
      "\u001b[1m13/13\u001b[0m \u001b[32m━━━━━━━━━━━━━━━━━━━━\u001b[0m\u001b[37m\u001b[0m \u001b[1m0s\u001b[0m 11ms/step - disease_output_accuracy: 0.9448 - loss: 0.7889 - prescription_output_accuracy: 0.8660\n",
      "Epoch 113/150\n",
      "\u001b[1m13/13\u001b[0m \u001b[32m━━━━━━━━━━━━━━━━━━━━\u001b[0m\u001b[37m\u001b[0m \u001b[1m0s\u001b[0m 10ms/step - disease_output_accuracy: 0.9227 - loss: 0.9666 - prescription_output_accuracy: 0.8192\n",
      "Epoch 114/150\n",
      "\u001b[1m13/13\u001b[0m \u001b[32m━━━━━━━━━━━━━━━━━━━━\u001b[0m\u001b[37m\u001b[0m \u001b[1m0s\u001b[0m 11ms/step - disease_output_accuracy: 0.8979 - loss: 1.0733 - prescription_output_accuracy: 0.7858\n",
      "Epoch 115/150\n",
      "\u001b[1m13/13\u001b[0m \u001b[32m━━━━━━━━━━━━━━━━━━━━\u001b[0m\u001b[37m\u001b[0m \u001b[1m0s\u001b[0m 11ms/step - disease_output_accuracy: 0.8434 - loss: 1.4158 - prescription_output_accuracy: 0.7534\n",
      "Epoch 116/150\n",
      "\u001b[1m13/13\u001b[0m \u001b[32m━━━━━━━━━━━━━━━━━━━━\u001b[0m\u001b[37m\u001b[0m \u001b[1m0s\u001b[0m 11ms/step - disease_output_accuracy: 0.8558 - loss: 1.4839 - prescription_output_accuracy: 0.7278\n",
      "Epoch 117/150\n",
      "\u001b[1m13/13\u001b[0m \u001b[32m━━━━━━━━━━━━━━━━━━━━\u001b[0m\u001b[37m\u001b[0m \u001b[1m0s\u001b[0m 11ms/step - disease_output_accuracy: 0.9132 - loss: 1.2315 - prescription_output_accuracy: 0.7895\n",
      "Epoch 118/150\n",
      "\u001b[1m13/13\u001b[0m \u001b[32m━━━━━━━━━━━━━━━━━━━━\u001b[0m\u001b[37m\u001b[0m \u001b[1m0s\u001b[0m 22ms/step - disease_output_accuracy: 0.8758 - loss: 1.3614 - prescription_output_accuracy: 0.7673\n",
      "Epoch 119/150\n",
      "\u001b[1m13/13\u001b[0m \u001b[32m━━━━━━━━━━━━━━━━━━━━\u001b[0m\u001b[37m\u001b[0m \u001b[1m0s\u001b[0m 10ms/step - disease_output_accuracy: 0.8980 - loss: 1.3096 - prescription_output_accuracy: 0.7684\n",
      "Epoch 120/150\n",
      "\u001b[1m13/13\u001b[0m \u001b[32m━━━━━━━━━━━━━━━━━━━━\u001b[0m\u001b[37m\u001b[0m \u001b[1m0s\u001b[0m 10ms/step - disease_output_accuracy: 0.8421 - loss: 1.5511 - prescription_output_accuracy: 0.7350\n",
      "Epoch 121/150\n",
      "\u001b[1m13/13\u001b[0m \u001b[32m━━━━━━━━━━━━━━━━━━━━\u001b[0m\u001b[37m\u001b[0m \u001b[1m0s\u001b[0m 11ms/step - disease_output_accuracy: 0.8350 - loss: 1.3704 - prescription_output_accuracy: 0.7555\n",
      "Epoch 122/150\n",
      "\u001b[1m13/13\u001b[0m \u001b[32m━━━━━━━━━━━━━━━━━━━━\u001b[0m\u001b[37m\u001b[0m \u001b[1m0s\u001b[0m 11ms/step - disease_output_accuracy: 0.8909 - loss: 1.3103 - prescription_output_accuracy: 0.7648\n",
      "Epoch 123/150\n",
      "\u001b[1m13/13\u001b[0m \u001b[32m━━━━━━━━━━━━━━━━━━━━\u001b[0m\u001b[37m\u001b[0m \u001b[1m0s\u001b[0m 11ms/step - disease_output_accuracy: 0.9191 - loss: 1.1382 - prescription_output_accuracy: 0.8019\n",
      "Epoch 124/150\n",
      "\u001b[1m13/13\u001b[0m \u001b[32m━━━━━━━━━━━━━━━━━━━━\u001b[0m\u001b[37m\u001b[0m \u001b[1m0s\u001b[0m 12ms/step - disease_output_accuracy: 0.9063 - loss: 1.1234 - prescription_output_accuracy: 0.7807\n",
      "Epoch 125/150\n",
      "\u001b[1m13/13\u001b[0m \u001b[32m━━━━━━━━━━━━━━━━━━━━\u001b[0m\u001b[37m\u001b[0m \u001b[1m0s\u001b[0m 12ms/step - disease_output_accuracy: 0.9404 - loss: 0.9526 - prescription_output_accuracy: 0.8506\n",
      "Epoch 126/150\n",
      "\u001b[1m13/13\u001b[0m \u001b[32m━━━━━━━━━━━━━━━━━━━━\u001b[0m\u001b[37m\u001b[0m \u001b[1m0s\u001b[0m 10ms/step - disease_output_accuracy: 0.9186 - loss: 1.0807 - prescription_output_accuracy: 0.8223\n",
      "Epoch 127/150\n",
      "\u001b[1m13/13\u001b[0m \u001b[32m━━━━━━━━━━━━━━━━━━━━\u001b[0m\u001b[37m\u001b[0m \u001b[1m0s\u001b[0m 10ms/step - disease_output_accuracy: 0.9302 - loss: 0.9863 - prescription_output_accuracy: 0.8020\n",
      "Epoch 128/150\n",
      "\u001b[1m13/13\u001b[0m \u001b[32m━━━━━━━━━━━━━━━━━━━━\u001b[0m\u001b[37m\u001b[0m \u001b[1m0s\u001b[0m 11ms/step - disease_output_accuracy: 0.9587 - loss: 0.8566 - prescription_output_accuracy: 0.8353\n",
      "Epoch 129/150\n",
      "\u001b[1m13/13\u001b[0m \u001b[32m━━━━━━━━━━━━━━━━━━━━\u001b[0m\u001b[37m\u001b[0m \u001b[1m0s\u001b[0m 10ms/step - disease_output_accuracy: 0.9408 - loss: 0.8906 - prescription_output_accuracy: 0.8312\n",
      "Epoch 130/150\n",
      "\u001b[1m13/13\u001b[0m \u001b[32m━━━━━━━━━━━━━━━━━━━━\u001b[0m\u001b[37m\u001b[0m \u001b[1m0s\u001b[0m 10ms/step - disease_output_accuracy: 0.9563 - loss: 0.8463 - prescription_output_accuracy: 0.8524\n",
      "Epoch 131/150\n",
      "\u001b[1m13/13\u001b[0m \u001b[32m━━━━━━━━━━━━━━━━━━━━\u001b[0m\u001b[37m\u001b[0m \u001b[1m0s\u001b[0m 10ms/step - disease_output_accuracy: 0.9468 - loss: 0.8896 - prescription_output_accuracy: 0.8358\n",
      "Epoch 132/150\n",
      "\u001b[1m13/13\u001b[0m \u001b[32m━━━━━━━━━━━━━━━━━━━━\u001b[0m\u001b[37m\u001b[0m \u001b[1m0s\u001b[0m 10ms/step - disease_output_accuracy: 0.9758 - loss: 0.7664 - prescription_output_accuracy: 0.8591\n",
      "Epoch 133/150\n",
      "\u001b[1m13/13\u001b[0m \u001b[32m━━━━━━━━━━━━━━━━━━━━\u001b[0m\u001b[37m\u001b[0m \u001b[1m0s\u001b[0m 17ms/step - disease_output_accuracy: 0.9832 - loss: 0.6932 - prescription_output_accuracy: 0.8743\n",
      "Epoch 134/150\n",
      "\u001b[1m13/13\u001b[0m \u001b[32m━━━━━━━━━━━━━━━━━━━━\u001b[0m\u001b[37m\u001b[0m \u001b[1m0s\u001b[0m 13ms/step - disease_output_accuracy: 0.9756 - loss: 0.6289 - prescription_output_accuracy: 0.9229\n",
      "Epoch 135/150\n",
      "\u001b[1m13/13\u001b[0m \u001b[32m━━━━━━━━━━━━━━━━━━━━\u001b[0m\u001b[37m\u001b[0m \u001b[1m0s\u001b[0m 10ms/step - disease_output_accuracy: 0.9818 - loss: 0.5976 - prescription_output_accuracy: 0.9249\n",
      "Epoch 136/150\n",
      "\u001b[1m13/13\u001b[0m \u001b[32m━━━━━━━━━━━━━━━━━━━━\u001b[0m\u001b[37m\u001b[0m \u001b[1m0s\u001b[0m 9ms/step - disease_output_accuracy: 0.9823 - loss: 0.6017 - prescription_output_accuracy: 0.9103\n",
      "Epoch 137/150\n",
      "\u001b[1m13/13\u001b[0m \u001b[32m━━━━━━━━━━━━━━━━━━━━\u001b[0m\u001b[37m\u001b[0m \u001b[1m0s\u001b[0m 11ms/step - disease_output_accuracy: 0.9931 - loss: 0.5427 - prescription_output_accuracy: 0.9136\n",
      "Epoch 138/150\n",
      "\u001b[1m13/13\u001b[0m \u001b[32m━━━━━━━━━━━━━━━━━━━━\u001b[0m\u001b[37m\u001b[0m \u001b[1m0s\u001b[0m 11ms/step - disease_output_accuracy: 0.9942 - loss: 0.5778 - prescription_output_accuracy: 0.9199\n",
      "Epoch 139/150\n",
      "\u001b[1m13/13\u001b[0m \u001b[32m━━━━━━━━━━━━━━━━━━━━\u001b[0m\u001b[37m\u001b[0m \u001b[1m0s\u001b[0m 12ms/step - disease_output_accuracy: 0.9880 - loss: 0.5642 - prescription_output_accuracy: 0.9051\n",
      "Epoch 140/150\n",
      "\u001b[1m13/13\u001b[0m \u001b[32m━━━━━━━━━━━━━━━━━━━━\u001b[0m\u001b[37m\u001b[0m \u001b[1m0s\u001b[0m 13ms/step - disease_output_accuracy: 0.9802 - loss: 0.5810 - prescription_output_accuracy: 0.9059\n",
      "Epoch 141/150\n",
      "\u001b[1m13/13\u001b[0m \u001b[32m━━━━━━━━━━━━━━━━━━━━\u001b[0m\u001b[37m\u001b[0m \u001b[1m0s\u001b[0m 11ms/step - disease_output_accuracy: 0.9871 - loss: 0.5537 - prescription_output_accuracy: 0.9022\n",
      "Epoch 142/150\n",
      "\u001b[1m13/13\u001b[0m \u001b[32m━━━━━━━━━━━━━━━━━━━━\u001b[0m\u001b[37m\u001b[0m \u001b[1m0s\u001b[0m 12ms/step - disease_output_accuracy: 0.9848 - loss: 0.5423 - prescription_output_accuracy: 0.9145\n",
      "Epoch 143/150\n",
      "\u001b[1m13/13\u001b[0m \u001b[32m━━━━━━━━━━━━━━━━━━━━\u001b[0m\u001b[37m\u001b[0m \u001b[1m0s\u001b[0m 10ms/step - disease_output_accuracy: 0.9948 - loss: 0.5073 - prescription_output_accuracy: 0.9400\n",
      "Epoch 144/150\n",
      "\u001b[1m13/13\u001b[0m \u001b[32m━━━━━━━━━━━━━━━━━━━━\u001b[0m\u001b[37m\u001b[0m \u001b[1m0s\u001b[0m 10ms/step - disease_output_accuracy: 0.9910 - loss: 0.5103 - prescription_output_accuracy: 0.9309\n",
      "Epoch 145/150\n",
      "\u001b[1m13/13\u001b[0m \u001b[32m━━━━━━━━━━━━━━━━━━━━\u001b[0m\u001b[37m\u001b[0m \u001b[1m0s\u001b[0m 11ms/step - disease_output_accuracy: 0.9962 - loss: 0.4938 - prescription_output_accuracy: 0.9380\n",
      "Epoch 146/150\n",
      "\u001b[1m13/13\u001b[0m \u001b[32m━━━━━━━━━━━━━━━━━━━━\u001b[0m\u001b[37m\u001b[0m \u001b[1m0s\u001b[0m 10ms/step - disease_output_accuracy: 0.9943 - loss: 0.4866 - prescription_output_accuracy: 0.9261\n",
      "Epoch 147/150\n",
      "\u001b[1m13/13\u001b[0m \u001b[32m━━━━━━━━━━━━━━━━━━━━\u001b[0m\u001b[37m\u001b[0m \u001b[1m0s\u001b[0m 10ms/step - disease_output_accuracy: 0.9959 - loss: 0.4680 - prescription_output_accuracy: 0.9302\n",
      "Epoch 148/150\n",
      "\u001b[1m13/13\u001b[0m \u001b[32m━━━━━━━━━━━━━━━━━━━━\u001b[0m\u001b[37m\u001b[0m \u001b[1m0s\u001b[0m 10ms/step - disease_output_accuracy: 0.9877 - loss: 0.4700 - prescription_output_accuracy: 0.9340\n",
      "Epoch 149/150\n",
      "\u001b[1m13/13\u001b[0m \u001b[32m━━━━━━━━━━━━━━━━━━━━\u001b[0m\u001b[37m\u001b[0m \u001b[1m0s\u001b[0m 11ms/step - disease_output_accuracy: 0.9952 - loss: 0.4757 - prescription_output_accuracy: 0.9322\n",
      "Epoch 150/150\n",
      "\u001b[1m13/13\u001b[0m \u001b[32m━━━━━━━━━━━━━━━━━━━━\u001b[0m\u001b[37m\u001b[0m \u001b[1m0s\u001b[0m 11ms/step - disease_output_accuracy: 0.9944 - loss: 0.4753 - prescription_output_accuracy: 0.9438\n"
     ]
    },
    {
     "data": {
      "text/plain": [
       "<keras.src.callbacks.history.History at 0x28247cb3ad0>"
      ]
     },
     "execution_count": 88,
     "metadata": {},
     "output_type": "execute_result"
    }
   ],
   "source": [
    "model.fit(padded_sequences, {'disease_output': disease_lebel_categorical, 'prescription_output':\n",
    "      prescription_label_categorical}, epochs=150, batch_size=32)"
   ]
  },
  {
   "cell_type": "markdown",
   "metadata": {},
   "source": [
    "Making predictions"
   ]
  },
  {
   "cell_type": "code",
   "execution_count": 89,
   "metadata": {},
   "outputs": [],
   "source": [
    "def make_prediction(patient_problem):\n",
    "    # Preprocessing the input\n",
    "    sequence = tokenizer.texts_to_sequences([patient_problem])\n",
    "    padded_sequence = pad_sequences(sequence, maxlen=max_length, padding='post')\n",
    "    \n",
    "    # Making prediction\n",
    "    prediction = model.predict(padded_sequence)\n",
    "    \n",
    "    # Decoding the prediction\n",
    "    disease_index = np.argmax(prediction[0], axis=1)[0]\n",
    "    prescription_index = np.argmax(prediction[1], axis=1)[0]\n",
    "    \n",
    "    disease_predicted = label_encoder_disease.inverse_transform([disease_index])[0]\n",
    "    prescription_predicted = label_encoder_prescription.inverse_transform([prescription_index])[0]\n",
    "    \n",
    "    print(f\"Predicted Disease: {disease_predicted}\")\n",
    "    print(f\"Suggested Prescription: {prescription_predicted}\")\n",
    "\n",
    "    "
   ]
  },
  {
   "cell_type": "code",
   "execution_count": 1,
   "metadata": {},
   "outputs": [
    {
     "ename": "NameError",
     "evalue": "name 'make_prediction' is not defined",
     "output_type": "error",
     "traceback": [
      "\u001b[1;31m---------------------------------------------------------------------------\u001b[0m",
      "\u001b[1;31mNameError\u001b[0m                                 Traceback (most recent call last)",
      "Cell \u001b[1;32mIn[1], line 2\u001b[0m\n\u001b[0;32m      1\u001b[0m patient_input \u001b[38;5;241m=\u001b[39m \u001b[38;5;124m\"\u001b[39m\u001b[38;5;124mheadache, sweating, \u001b[39m\u001b[38;5;124m\"\u001b[39m\n\u001b[1;32m----> 2\u001b[0m \u001b[43mmake_prediction\u001b[49m(patient_input)\n",
      "\u001b[1;31mNameError\u001b[0m: name 'make_prediction' is not defined"
     ]
    }
   ],
   "source": [
    "patient_input = \"headache, sweating \"\n",
    "make_prediction(patient_input)"
   ]
  }
 ],
 "metadata": {
  "kernelspec": {
   "display_name": "Python 3",
   "language": "python",
   "name": "python3"
  },
  "language_info": {
   "codemirror_mode": {
    "name": "ipython",
    "version": 3
   },
   "file_extension": ".py",
   "mimetype": "text/x-python",
   "name": "python",
   "nbconvert_exporter": "python",
   "pygments_lexer": "ipython3",
   "version": "3.12.3"
  }
 },
 "nbformat": 4,
 "nbformat_minor": 2
}
